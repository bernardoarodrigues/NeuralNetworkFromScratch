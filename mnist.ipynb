{
  "nbformat": 4,
  "nbformat_minor": 0,
  "metadata": {
    "colab": {
      "provenance": []
    },
    "kernelspec": {
      "name": "python3",
      "display_name": "Python 3"
    },
    "language_info": {
      "name": "python"
    }
  },
  "cells": [
    {
      "cell_type": "code",
      "source": [
        "import numpy as np\n",
        "import pandas as pd\n",
        "from matplotlib import pyplot as plt\n",
        "\n",
        "data = pd.read_csv('/content/mnist.csv')"
      ],
      "metadata": {
        "id": "MS4EUDj-PBfx"
      },
      "execution_count": null,
      "outputs": []
    },
    {
      "cell_type": "code",
      "source": [
        "data = np.array(data)\n",
        "np.random.shuffle(data)\n",
        "data = data.T\n",
        "\n",
        "X = data[1:]\n",
        "X = X / 255\n",
        "Y = data[0]"
      ],
      "metadata": {
        "id": "0LuvMLgURdMu"
      },
      "execution_count": null,
      "outputs": []
    },
    {
      "cell_type": "code",
      "source": [
        "def init_params():\n",
        "  W1 = np.random.rand(10, 784) - 0.5\n",
        "  b1 = np.random.rand(10, 1) - 0.5\n",
        "  W2 = np.random.rand(10, 10) - 0.5\n",
        "  b2 = np.random.rand(10, 1) - 0.5\n",
        "  return W1, b1, W2, b2\n",
        "\n",
        "def forward(X, W1, b1, W2, b2):\n",
        "  Z1 = W1.dot(X) + b1\n",
        "  A1 = relu(Z1)\n",
        "  Z2 = W2.dot(A1) + b2\n",
        "  A2 = softmax(Z2)\n",
        "  return Z1, A1, Z2, A2\n",
        "\n",
        "def backward(X, Y, W2, Z1, A1, Z2, A2):\n",
        "  m = Y.size\n",
        "  one_hot_Y = one_hot(Y)\n",
        "  dZ2 = A2 - one_hot_Y\n",
        "  dW2 = 1 / m * dZ2.dot(A1.T)\n",
        "  dB2 = 1 / m * np.sum(dZ2)\n",
        "  dZ1 = W2.T.dot(dZ2) * deriv_relu(Z1)\n",
        "  dW1 = 1 / m * dZ1.dot(X.T)\n",
        "  dB1 = 1 / m * np.sum(dZ1)\n",
        "  return dW1, dB1, dW2, dB2 \n",
        "\n",
        "def update_params(W1, b1, W2, b2, dW1, dB1, dW2, dB2, alpha):\n",
        "  W2 = W2 - alpha * dW2\n",
        "  b2 = b2 - alpha * dB2\n",
        "  W1 = W1- alpha * dW1\n",
        "  b1 = b1 - alpha * dB1\n",
        "  return W1, b1, W2, b2\n",
        "\n",
        "def gradient_descent(X, Y, epochs, alpha):\n",
        "  W1, b1, W2, b2 = init_params()\n",
        "\n",
        "  for i in range(epochs):\n",
        "    Z1, A1, Z2, A2 = forward(X, W1, b1, W2, b2)\n",
        "    dW1, dB1, dW2, dB2 = backward(X, Y, W2, Z1, A1, Z2, A2)\n",
        "    W1, b1, W2, b2 = update_params(W1, b1, W2, b2, dW1, dB1, dW2, dB2, alpha)\n",
        "\n",
        "    if i % 10 == 0:\n",
        "      print('Epoch: ', i)\n",
        "      print('Accuracy: ', get_accuracy(A2, Y))\n",
        "\n",
        "  return W1, b1, W2, b2\n",
        "\n",
        "def relu(Z):\n",
        "  return np.maximum(Z, 0)\n",
        "\n",
        "def deriv_relu(Z):\n",
        "  return Z > 0\n",
        "\n",
        "def softmax(Z):\n",
        "  return np.exp(Z) / sum(np.exp(Z))\n",
        "\n",
        "def one_hot(Y):\n",
        "  one_hot_y = np.zeros((Y.size, Y.max() + 1))\n",
        "  one_hot_y[np.arange(Y.size), Y] = 1\n",
        "  return one_hot_y.T\n",
        "\n",
        "def get_accuracy(A2, Y):\n",
        "  predictions = np.argmax(A2, 0)\n",
        "  accuracy = np.sum(predictions == Y) / Y.size\n",
        "  return accuracy\n",
        "\n",
        "def make_prediction(image, W1, b1, W2, b2):\n",
        "  _, _, _, A2 = forward(image, W1, b1, W2, b2)\n",
        "  predictions = np.argmax(A2, 0)\n",
        "  return predictions[0]\n",
        "\n",
        "def test_prediction(index, X, Y, W1, b1, W2, b2):\n",
        "  current_image = np.array(X[:, index]).reshape(28, 28) * 255\n",
        "  prediction = make_prediction(np.array(X[:, index]), W1, b1, W2, b2)\n",
        "  label = Y[index]\n",
        "\n",
        "  print('Label: ', label)\n",
        "  print('Prediction: ', prediction)\n",
        "\n",
        "  plt.gray()\n",
        "  plt.imshow(current_image, interpolation='nearest')\n",
        "  plt.show()"
      ],
      "metadata": {
        "id": "0Z4s5ntWR0pC"
      },
      "execution_count": null,
      "outputs": []
    },
    {
      "cell_type": "code",
      "source": [
        "W1, b1, W2, b2 = gradient_descent(X, Y, 600, 0.1)"
      ],
      "metadata": {
        "colab": {
          "base_uri": "https://localhost:8080/"
        },
        "id": "Uy76ZOTQW9Oi",
        "outputId": "7bda28d4-3469-423a-bf76-94ff7669606c"
      },
      "execution_count": null,
      "outputs": [
        {
          "output_type": "stream",
          "name": "stdout",
          "text": [
            "Epoch:  0\n",
            "Accuracy:  0.102\n",
            "Epoch:  10\n",
            "Accuracy:  0.1227\n",
            "Epoch:  20\n",
            "Accuracy:  0.1563\n",
            "Epoch:  30\n",
            "Accuracy:  0.1896\n",
            "Epoch:  40\n",
            "Accuracy:  0.2278\n",
            "Epoch:  50\n",
            "Accuracy:  0.2594\n",
            "Epoch:  60\n",
            "Accuracy:  0.2866\n",
            "Epoch:  70\n",
            "Accuracy:  0.3568\n",
            "Epoch:  80\n",
            "Accuracy:  0.3941\n",
            "Epoch:  90\n",
            "Accuracy:  0.4319\n",
            "Epoch:  100\n",
            "Accuracy:  0.4714\n",
            "Epoch:  110\n",
            "Accuracy:  0.5026\n",
            "Epoch:  120\n",
            "Accuracy:  0.5291\n",
            "Epoch:  130\n",
            "Accuracy:  0.5554\n",
            "Epoch:  140\n",
            "Accuracy:  0.5805\n",
            "Epoch:  150\n",
            "Accuracy:  0.5983\n",
            "Epoch:  160\n",
            "Accuracy:  0.6146\n",
            "Epoch:  170\n",
            "Accuracy:  0.6308\n",
            "Epoch:  180\n",
            "Accuracy:  0.644\n",
            "Epoch:  190\n",
            "Accuracy:  0.6585\n",
            "Epoch:  200\n",
            "Accuracy:  0.6739\n",
            "Epoch:  210\n",
            "Accuracy:  0.6864\n",
            "Epoch:  220\n",
            "Accuracy:  0.7\n",
            "Epoch:  230\n",
            "Accuracy:  0.7103\n",
            "Epoch:  240\n",
            "Accuracy:  0.7204\n",
            "Epoch:  250\n",
            "Accuracy:  0.7302\n",
            "Epoch:  260\n",
            "Accuracy:  0.7409\n",
            "Epoch:  270\n",
            "Accuracy:  0.7498\n",
            "Epoch:  280\n",
            "Accuracy:  0.7592\n",
            "Epoch:  290\n",
            "Accuracy:  0.7667\n",
            "Epoch:  300\n",
            "Accuracy:  0.7715\n",
            "Epoch:  310\n",
            "Accuracy:  0.7783\n",
            "Epoch:  320\n",
            "Accuracy:  0.784\n",
            "Epoch:  330\n",
            "Accuracy:  0.7889\n",
            "Epoch:  340\n",
            "Accuracy:  0.7952\n",
            "Epoch:  350\n",
            "Accuracy:  0.7989\n",
            "Epoch:  360\n",
            "Accuracy:  0.802\n",
            "Epoch:  370\n",
            "Accuracy:  0.8063\n",
            "Epoch:  380\n",
            "Accuracy:  0.8114\n",
            "Epoch:  390\n",
            "Accuracy:  0.8164\n",
            "Epoch:  400\n",
            "Accuracy:  0.8192\n",
            "Epoch:  410\n",
            "Accuracy:  0.8217\n",
            "Epoch:  420\n",
            "Accuracy:  0.8251\n",
            "Epoch:  430\n",
            "Accuracy:  0.8269\n",
            "Epoch:  440\n",
            "Accuracy:  0.8301\n",
            "Epoch:  450\n",
            "Accuracy:  0.8339\n",
            "Epoch:  460\n",
            "Accuracy:  0.8362\n",
            "Epoch:  470\n",
            "Accuracy:  0.8397\n",
            "Epoch:  480\n",
            "Accuracy:  0.8418\n",
            "Epoch:  490\n",
            "Accuracy:  0.8441\n",
            "Epoch:  500\n",
            "Accuracy:  0.848\n",
            "Epoch:  510\n",
            "Accuracy:  0.8496\n",
            "Epoch:  520\n",
            "Accuracy:  0.8515\n",
            "Epoch:  530\n",
            "Accuracy:  0.8533\n",
            "Epoch:  540\n",
            "Accuracy:  0.8555\n",
            "Epoch:  550\n",
            "Accuracy:  0.857\n",
            "Epoch:  560\n",
            "Accuracy:  0.858\n",
            "Epoch:  570\n",
            "Accuracy:  0.8593\n",
            "Epoch:  580\n",
            "Accuracy:  0.861\n",
            "Epoch:  590\n",
            "Accuracy:  0.8629\n"
          ]
        }
      ]
    },
    {
      "cell_type": "code",
      "source": [
        "for i in range(10):\n",
        "  test_prediction(i, X, Y, W1, b1, W2, b2)"
      ],
      "metadata": {
        "colab": {
          "base_uri": "https://localhost:8080/",
          "height": 1000
        },
        "id": "Dm1uck21YDUE",
        "outputId": "32f69a3a-79ca-47b8-9eac-3c2e16c22b03"
      },
      "execution_count": null,
      "outputs": [
        {
          "output_type": "stream",
          "name": "stdout",
          "text": [
            "Label:  7\n",
            "Prediction:  6\n"
          ]
        },
        {
          "output_type": "display_data",
          "data": {
            "text/plain": [
              "<Figure size 432x288 with 1 Axes>"
            ],
            "image/png": "[encoded data removed]"
          },
          "metadata": {
            "needs_background": "light"
          }
        },
        {
          "output_type": "stream",
          "name": "stdout",
          "text": [
            "Label:  4\n",
            "Prediction:  4\n"
          ]
        },
        {
          "output_type": "display_data",
          "data": {
            "text/plain": [
              "<Figure size 432x288 with 1 Axes>"
            ],
            "image/png": "[encoded data removed]"
          },
          "metadata": {
            "needs_background": "light"
          }
        },
        {
          "output_type": "stream",
          "name": "stdout",
          "text": [
            "Label:  6\n",
            "Prediction:  4\n"
          ]
        },
        {
          "output_type": "display_data",
          "data": {
            "text/plain": [
              "<Figure size 432x288 with 1 Axes>"
            ],
            "image/png": "[encoded data removed]"
          },
          "metadata": {
            "needs_background": "light"
          }
        },
        {
          "output_type": "stream",
          "name": "stdout",
          "text": [
            "Label:  0\n",
            "Prediction:  4\n"
          ]
        },
        {
          "output_type": "display_data",
          "data": {
            "text/plain": [
              "<Figure size 432x288 with 1 Axes>"
            ],
            "image/png": "[encoded data removed]"
          },
          "metadata": {
            "needs_background": "light"
          }
        },
        {
          "output_type": "stream",
          "name": "stdout",
          "text": [
            "Label:  4\n",
            "Prediction:  4\n"
          ]
        },
        {
          "output_type": "display_data",
          "data": {
            "text/plain": [
              "<Figure size 432x288 with 1 Axes>"
            ],
            "image/png": "[encoded data removed]"
          },
          "metadata": {
            "needs_background": "light"
          }
        },
        {
          "output_type": "stream",
          "name": "stdout",
          "text": [
            "Label:  3\n",
            "Prediction:  6\n"
          ]
        },
        {
          "output_type": "display_data",
          "data": {
            "text/plain": [
              "<Figure size 432x288 with 1 Axes>"
            ],
            "image/png": "[encoded data removed]"
          },
          "metadata": {
            "needs_background": "light"
          }
        },
        {
          "output_type": "stream",
          "name": "stdout",
          "text": [
            "Label:  1\n",
            "Prediction:  4\n"
          ]
        },
        {
          "output_type": "display_data",
          "data": {
            "text/plain": [
              "<Figure size 432x288 with 1 Axes>"
            ],
            "image/png": "[encoded data removed]"
          },
          "metadata": {
            "needs_background": "light"
          }
        },
        {
          "output_type": "stream",
          "name": "stdout",
          "text": [
            "Label:  6\n",
            "Prediction:  6\n"
          ]
        },
        {
          "output_type": "display_data",
          "data": {
            "text/plain": [
              "<Figure size 432x288 with 1 Axes>"
            ],
            "image/png": "[encoded data removed]"
          },
          "metadata": {
            "needs_background": "light"
          }
        },
        {
          "output_type": "stream",
          "name": "stdout",
          "text": [
            "Label:  3\n",
            "Prediction:  6\n"
          ]
        },
        {
          "output_type": "display_data",
          "data": {
            "text/plain": [
              "<Figure size 432x288 with 1 Axes>"
            ],
            "image/png": "[encoded data removed]"
          },
          "metadata": {
            "needs_background": "light"
          }
        },
        {
          "output_type": "stream",
          "name": "stdout",
          "text": [
            "Label:  5\n",
            "Prediction:  4\n"
          ]
        },
        {
          "output_type": "display_data",
          "data": {
            "text/plain": [
              "<Figure size 432x288 with 1 Axes>"
            ],
            "image/png": "[encoded data removed]"
          },
          "metadata": {
            "needs_background": "light"
          }
        }
      ]
    }
  ]
}